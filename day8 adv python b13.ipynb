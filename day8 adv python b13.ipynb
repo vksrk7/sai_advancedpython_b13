{
 "cells": [
  {
   "cell_type": "code",
   "execution_count": 1,
   "metadata": {},
   "outputs": [],
   "source": [
    "#introduction of iterations over numpy arrays"
   ]
  },
  {
   "cell_type": "code",
   "execution_count": null,
   "metadata": {},
   "outputs": [],
   "source": []
  },
  {
   "cell_type": "code",
   "execution_count": 2,
   "metadata": {},
   "outputs": [],
   "source": [
    "import numpy as np\n",
    "\n",
    "students = np.array([['sai','sekar','ram','krishna','sairaj'],\n",
    "                     [80,75,87,92,78],\n",
    "                     [180,175,187,192,178]])"
   ]
  },
  {
   "cell_type": "code",
   "execution_count": 3,
   "metadata": {},
   "outputs": [
    {
     "data": {
      "text/plain": [
       "array([  0,   1,   4,   9,  16,  25,  36,  49,  64,  81, 100], dtype=int32)"
      ]
     },
     "execution_count": 3,
     "metadata": {},
     "output_type": "execute_result"
    }
   ],
   "source": [
    "a =np.arange(11)**2\n",
    "\n",
    "a"
   ]
  },
  {
   "cell_type": "code",
   "execution_count": 4,
   "metadata": {},
   "outputs": [
    {
     "name": "stdout",
     "output_type": "stream",
     "text": [
      "0.0\n",
      "0.5\n",
      "2.0\n",
      "4.5\n",
      "8.0\n",
      "12.5\n",
      "18.0\n",
      "24.5\n",
      "32.0\n",
      "40.5\n",
      "50.0\n"
     ]
    }
   ],
   "source": [
    "for x in a:\n",
    "    print(x**1/2)"
   ]
  },
  {
   "cell_type": "code",
   "execution_count": 5,
   "metadata": {},
   "outputs": [
    {
     "name": "stdout",
     "output_type": "stream",
     "text": [
      "0.0\n",
      "1.0\n",
      "131072.0\n",
      "129140163.0\n",
      "17179869184.0\n",
      "762939453125.0\n",
      "16926659444736.0\n",
      "232630513987207.0\n",
      "2251799813685248.0\n",
      "1.6677181699666568e+16\n",
      "1e+17\n"
     ]
    }
   ],
   "source": [
    "for sai in a:\n",
    "    print(sai**8.5)"
   ]
  },
  {
   "cell_type": "code",
   "execution_count": null,
   "metadata": {},
   "outputs": [],
   "source": []
  },
  {
   "cell_type": "code",
   "execution_count": 6,
   "metadata": {},
   "outputs": [],
   "source": [
    "students = np.array([['sai','sekar','ram','krishna','sairaj'],\n",
    "                     [80,75,87,92,78],\n",
    "                     [180,175,187,192,178]])"
   ]
  },
  {
   "cell_type": "code",
   "execution_count": 19,
   "metadata": {},
   "outputs": [
    {
     "name": "stdout",
     "output_type": "stream",
     "text": [
      "i= ['sai' 'sekar' 'ram' 'krishna' 'sairaj']\n",
      "i= ['80' '75' '87' '92' '78']\n",
      "i= ['180' '175' '187' '192' '178']\n"
     ]
    }
   ],
   "source": [
    "for partition in students:\n",
    "    \n",
    "    print('i=',partition)"
   ]
  },
  {
   "cell_type": "code",
   "execution_count": null,
   "metadata": {},
   "outputs": [],
   "source": []
  },
  {
   "cell_type": "code",
   "execution_count": 20,
   "metadata": {},
   "outputs": [],
   "source": [
    "#row major flattening"
   ]
  },
  {
   "cell_type": "code",
   "execution_count": null,
   "metadata": {},
   "outputs": [],
   "source": []
  },
  {
   "cell_type": "code",
   "execution_count": 21,
   "metadata": {},
   "outputs": [],
   "source": [
    "students = np.array([['sai','sekar','ram','krishna','sairaj'],\n",
    "                     [80,75,87,92,78],\n",
    "                     [180,175,187,192,178]])"
   ]
  },
  {
   "cell_type": "code",
   "execution_count": 31,
   "metadata": {},
   "outputs": [
    {
     "name": "stdout",
     "output_type": "stream",
     "text": [
      "sai\n",
      "sekar\n",
      "ram\n",
      "krishna\n",
      "sairaj\n",
      "80\n",
      "75\n",
      "87\n",
      "92\n",
      "78\n",
      "180\n",
      "175\n",
      "187\n",
      "192\n",
      "178\n"
     ]
    }
   ],
   "source": [
    "import numpy as np\n",
    "\n",
    "for seperation in students.flatten():\n",
    "\n",
    "    print(seperation)"
   ]
  },
  {
   "cell_type": "code",
   "execution_count": null,
   "metadata": {},
   "outputs": [],
   "source": []
  },
  {
   "cell_type": "code",
   "execution_count": 35,
   "metadata": {},
   "outputs": [
    {
     "name": "stdout",
     "output_type": "stream",
     "text": [
      "sai\n",
      "80\n",
      "180\n",
      "sekar\n",
      "75\n",
      "175\n",
      "ram\n",
      "87\n",
      "187\n",
      "krishna\n",
      "92\n",
      "192\n",
      "sairaj\n",
      "78\n",
      "178\n"
     ]
    }
   ],
   "source": [
    "import numpy as np\n",
    "\n",
    "for coloumn in students.flatten(order = 'F'):\n",
    "    \n",
    "    \n",
    "    print(coloumn)"
   ]
  },
  {
   "cell_type": "code",
   "execution_count": null,
   "metadata": {},
   "outputs": [],
   "source": []
  },
  {
   "cell_type": "code",
   "execution_count": 36,
   "metadata": {},
   "outputs": [],
   "source": [
    "x =np.arange(16).reshape((8,2))"
   ]
  },
  {
   "cell_type": "code",
   "execution_count": 37,
   "metadata": {},
   "outputs": [
    {
     "data": {
      "text/plain": [
       "array([[ 0,  1],\n",
       "       [ 2,  3],\n",
       "       [ 4,  5],\n",
       "       [ 6,  7],\n",
       "       [ 8,  9],\n",
       "       [10, 11],\n",
       "       [12, 13],\n",
       "       [14, 15]])"
      ]
     },
     "execution_count": 37,
     "metadata": {},
     "output_type": "execute_result"
    }
   ],
   "source": [
    "x"
   ]
  },
  {
   "cell_type": "code",
   "execution_count": 39,
   "metadata": {},
   "outputs": [
    {
     "name": "stdout",
     "output_type": "stream",
     "text": [
      "0\n",
      "1\n",
      "2\n",
      "3\n",
      "4\n",
      "5\n",
      "6\n",
      "7\n",
      "8\n",
      "9\n",
      "10\n",
      "11\n",
      "12\n",
      "13\n",
      "14\n",
      "15\n"
     ]
    }
   ],
   "source": [
    "for s in np.nditer(x):\n",
    "    \n",
    "    \n",
    "    print(s)"
   ]
  },
  {
   "cell_type": "code",
   "execution_count": 40,
   "metadata": {},
   "outputs": [
    {
     "name": "stdout",
     "output_type": "stream",
     "text": [
      "0\n",
      "2\n",
      "4\n",
      "6\n",
      "8\n",
      "10\n",
      "12\n",
      "14\n",
      "1\n",
      "3\n",
      "5\n",
      "7\n",
      "9\n",
      "11\n",
      "13\n",
      "15\n"
     ]
    }
   ],
   "source": [
    "for s in np.nditer(x,order = 'F'):\n",
    "    \n",
    "    print(s)"
   ]
  },
  {
   "cell_type": "code",
   "execution_count": null,
   "metadata": {},
   "outputs": [],
   "source": []
  }
 ],
 "metadata": {
  "kernelspec": {
   "display_name": "Python 3",
   "language": "python",
   "name": "python3"
  },
  "language_info": {
   "codemirror_mode": {
    "name": "ipython",
    "version": 3
   },
   "file_extension": ".py",
   "mimetype": "text/x-python",
   "name": "python",
   "nbconvert_exporter": "python",
   "pygments_lexer": "ipython3",
   "version": "3.7.4"
  }
 },
 "nbformat": 4,
 "nbformat_minor": 2
}
